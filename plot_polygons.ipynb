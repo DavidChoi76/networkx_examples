{
 "cells": [
  {
   "cell_type": "code",
   "execution_count": null,
   "metadata": {},
   "outputs": [],
   "source": [
    "%matplotlib inline"
   ]
  },
  {
   "cell_type": "markdown",
   "metadata": {},
   "source": [
    "\n",
    "# Graphs from Polygons\n",
    "\n",
    "This example shows how to build a graph from a set of polygons\n",
    "using PySAL and geopandas. We'll focus on the Queen contiguity \n",
    "graph, but constructors are also provided for Rook contiguity, \n",
    "as well as other kinds of graphs from the polygon centroids. \n"
   ]
  },
  {
   "cell_type": "code",
   "execution_count": null,
   "metadata": {},
   "outputs": [],
   "source": [
    "from libpysal import weights\n",
    "import matplotlib.pyplot as plt\n",
    "import networkx as nx\n",
    "import geopandas\n",
    "import numpy as np\n",
    "\n",
    "# read in example data from geojson. GeoJSON is a file format\n",
    "# for encoding geographic data based on JSON. It is useful for\n",
    "# presenting geographic data on the web, and is increasingly\n",
    "# used as a file format for geographic data.\n",
    "filepath = \"nuts1.geojson\"\n",
    "european_regions = geopandas.read_file(filepath)\n",
    "\n",
    "# extract the centroids for connecting the regions, which is\n",
    "# the average of the coordinates that define the polygon's boundary\n",
    "centroids = np.column_stack((european_regions.centroid.x, european_regions.centroid.y))\n",
    "\n",
    "# construct the \"Queen\" adjacency graph. In geographical applications,\n",
    "# the \"Queen\" adjacency graph considers two polygons as connected if\n",
    "# they share a single point on their boundary. This is an analogue to\n",
    "# the \"Moore\" neighborhood nine surrounding cells in a regular grid.\n",
    "queen = weights.Queen.from_dataframe(european_regions)\n",
    "\n",
    "# Then, we can convert the graph to networkx object using the\n",
    "# .to_networkx() method.\n",
    "graph = queen.to_networkx()\n",
    "\n",
    "# To plot with networkx, we need to merge the nodes back to\n",
    "# their positions in order to plot in networkx\n",
    "positions = dict(zip(graph.nodes, centroids))\n",
    "\n",
    "# plot with a nice basemap\n",
    "ax = european_regions.plot(linewidth=1, edgecolor=\"grey\", facecolor=\"lightblue\")\n",
    "ax.axis([-12, 45, 33, 66])\n",
    "ax.axis(\"off\")\n",
    "nx.draw(graph, positions, ax=ax, node_size=5, node_color=\"r\")\n",
    "plt.show()\n",
    "\n",
    "# An alternative method to construct graphs from polygons may use\n",
    "# pygeos. This package is a high-performance interface to the GEOS C\n",
    "# library, used in computing geographical relationships. These let us\n",
    "# describe the relationships between \"point sets,\" like polygons whether\n",
    "# or not a line \"crosses\" a polygon, or whether two polygons \"touch.\"\n",
    "# These relationships, called \"predicates\", are extensive, and are documented\n",
    "# by the pygeos package."
   ]
  }
 ],
 "metadata": {
  "kernelspec": {
   "display_name": "Python 3",
   "language": "python",
   "name": "python3"
  },
  "language_info": {
   "codemirror_mode": {
    "name": "ipython",
    "version": 3
   },
   "file_extension": ".py",
   "mimetype": "text/x-python",
   "name": "python",
   "nbconvert_exporter": "python",
   "pygments_lexer": "ipython3",
   "version": "3.7.9"
  }
 },
 "nbformat": 4,
 "nbformat_minor": 1
}
